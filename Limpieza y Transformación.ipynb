{
  "cells": [
    {
      "cell_type": "markdown",
      "metadata": {
        "id": "uTlI4uTgyIdd"
      },
      "source": [
        "# 1. Importar librerías"
      ]
    },
    {
      "cell_type": "code",
      "execution_count": 34,
      "metadata": {
        "id": "lNr3IE_tnrzr"
      },
      "outputs": [],
      "source": [
        "import pandas as pd"
      ]
    },
    {
      "cell_type": "markdown",
      "metadata": {
        "id": "irIAPeKSyOdq"
      },
      "source": [
        "# 2. Cargar datos"
      ]
    },
    {
      "cell_type": "markdown",
      "metadata": {},
      "source": [
        "## 2.1. Importar datos"
      ]
    },
    {
      "cell_type": "code",
      "execution_count": 35,
      "metadata": {
        "id": "G4HP1zLJn42K"
      },
      "outputs": [],
      "source": [
        "general_data = pd.read_csv('Datasets/general_data.csv')\n",
        "emp_surv_data = pd.read_csv('Datasets/employee_survey_data.csv')\n",
        "man_surv_data = pd.read_csv('Datasets/manager_survey_data.csv')\n",
        "time_work = pd.read_csv('Datasets/time_work.csv', sep=';')"
      ]
    },
    {
      "cell_type": "markdown",
      "metadata": {},
      "source": [
        "## 2.2. Unir tablas"
      ]
    },
    {
      "cell_type": "code",
      "execution_count": 36,
      "metadata": {
        "id": "Q_LI5j75sp0P"
      },
      "outputs": [],
      "source": [
        "employees = general_data.merge(emp_surv_data, how='outer', on='EmployeeID').merge(man_surv_data, how='outer', on='EmployeeID').merge(time_work, how='outer', on = 'EmployeeID')"
      ]
    },
    {
      "cell_type": "code",
      "execution_count": 37,
      "metadata": {
        "colab": {
          "base_uri": "https://localhost:8080/",
          "height": 325
        },
        "id": "eSAaJ4botK7Q",
        "outputId": "e107c583-ca79-43d8-8d9b-2ab119fa1e5c"
      },
      "outputs": [
        {
          "data": {
            "text/html": [
              "<div>\n",
              "<style scoped>\n",
              "    .dataframe tbody tr th:only-of-type {\n",
              "        vertical-align: middle;\n",
              "    }\n",
              "\n",
              "    .dataframe tbody tr th {\n",
              "        vertical-align: top;\n",
              "    }\n",
              "\n",
              "    .dataframe thead th {\n",
              "        text-align: right;\n",
              "    }\n",
              "</style>\n",
              "<table border=\"1\" class=\"dataframe\">\n",
              "  <thead>\n",
              "    <tr style=\"text-align: right;\">\n",
              "      <th></th>\n",
              "      <th>Age</th>\n",
              "      <th>Attrition</th>\n",
              "      <th>BusinessTravel</th>\n",
              "      <th>Department</th>\n",
              "      <th>DistanceFromHome</th>\n",
              "      <th>Education</th>\n",
              "      <th>EducationField</th>\n",
              "      <th>EmployeeCount</th>\n",
              "      <th>EmployeeID</th>\n",
              "      <th>Gender</th>\n",
              "      <th>...</th>\n",
              "      <th>TrainingTimesLastYear</th>\n",
              "      <th>YearsAtCompany</th>\n",
              "      <th>YearsSinceLastPromotion</th>\n",
              "      <th>YearsWithCurrManager</th>\n",
              "      <th>EnvironmentSatisfaction</th>\n",
              "      <th>JobSatisfaction</th>\n",
              "      <th>WorkLifeBalance</th>\n",
              "      <th>JobInvolvement</th>\n",
              "      <th>PerformanceRating</th>\n",
              "      <th>mean_time</th>\n",
              "    </tr>\n",
              "  </thead>\n",
              "  <tbody>\n",
              "    <tr>\n",
              "      <th>0</th>\n",
              "      <td>51</td>\n",
              "      <td>No</td>\n",
              "      <td>Travel_Rarely</td>\n",
              "      <td>Sales</td>\n",
              "      <td>6</td>\n",
              "      <td>2</td>\n",
              "      <td>Life Sciences</td>\n",
              "      <td>1</td>\n",
              "      <td>1</td>\n",
              "      <td>Female</td>\n",
              "      <td>...</td>\n",
              "      <td>6</td>\n",
              "      <td>1</td>\n",
              "      <td>0</td>\n",
              "      <td>0</td>\n",
              "      <td>3.0</td>\n",
              "      <td>4.0</td>\n",
              "      <td>2.0</td>\n",
              "      <td>3</td>\n",
              "      <td>3</td>\n",
              "      <td>6,8702</td>\n",
              "    </tr>\n",
              "    <tr>\n",
              "      <th>1</th>\n",
              "      <td>31</td>\n",
              "      <td>Yes</td>\n",
              "      <td>Travel_Frequently</td>\n",
              "      <td>Research &amp; Development</td>\n",
              "      <td>10</td>\n",
              "      <td>1</td>\n",
              "      <td>Life Sciences</td>\n",
              "      <td>1</td>\n",
              "      <td>2</td>\n",
              "      <td>Female</td>\n",
              "      <td>...</td>\n",
              "      <td>3</td>\n",
              "      <td>5</td>\n",
              "      <td>1</td>\n",
              "      <td>4</td>\n",
              "      <td>3.0</td>\n",
              "      <td>2.0</td>\n",
              "      <td>4.0</td>\n",
              "      <td>2</td>\n",
              "      <td>4</td>\n",
              "      <td>7,316</td>\n",
              "    </tr>\n",
              "    <tr>\n",
              "      <th>2</th>\n",
              "      <td>32</td>\n",
              "      <td>No</td>\n",
              "      <td>Travel_Frequently</td>\n",
              "      <td>Research &amp; Development</td>\n",
              "      <td>17</td>\n",
              "      <td>4</td>\n",
              "      <td>Other</td>\n",
              "      <td>1</td>\n",
              "      <td>3</td>\n",
              "      <td>Male</td>\n",
              "      <td>...</td>\n",
              "      <td>2</td>\n",
              "      <td>5</td>\n",
              "      <td>0</td>\n",
              "      <td>3</td>\n",
              "      <td>2.0</td>\n",
              "      <td>2.0</td>\n",
              "      <td>1.0</td>\n",
              "      <td>3</td>\n",
              "      <td>3</td>\n",
              "      <td>6,8161</td>\n",
              "    </tr>\n",
              "    <tr>\n",
              "      <th>3</th>\n",
              "      <td>38</td>\n",
              "      <td>No</td>\n",
              "      <td>Non-Travel</td>\n",
              "      <td>Research &amp; Development</td>\n",
              "      <td>2</td>\n",
              "      <td>5</td>\n",
              "      <td>Life Sciences</td>\n",
              "      <td>1</td>\n",
              "      <td>4</td>\n",
              "      <td>Male</td>\n",
              "      <td>...</td>\n",
              "      <td>5</td>\n",
              "      <td>8</td>\n",
              "      <td>7</td>\n",
              "      <td>5</td>\n",
              "      <td>4.0</td>\n",
              "      <td>4.0</td>\n",
              "      <td>3.0</td>\n",
              "      <td>2</td>\n",
              "      <td>3</td>\n",
              "      <td>6,7892</td>\n",
              "    </tr>\n",
              "    <tr>\n",
              "      <th>4</th>\n",
              "      <td>32</td>\n",
              "      <td>No</td>\n",
              "      <td>Travel_Rarely</td>\n",
              "      <td>Research &amp; Development</td>\n",
              "      <td>10</td>\n",
              "      <td>1</td>\n",
              "      <td>Medical</td>\n",
              "      <td>1</td>\n",
              "      <td>5</td>\n",
              "      <td>Male</td>\n",
              "      <td>...</td>\n",
              "      <td>2</td>\n",
              "      <td>6</td>\n",
              "      <td>0</td>\n",
              "      <td>4</td>\n",
              "      <td>4.0</td>\n",
              "      <td>1.0</td>\n",
              "      <td>3.0</td>\n",
              "      <td>3</td>\n",
              "      <td>3</td>\n",
              "      <td>7,8776</td>\n",
              "    </tr>\n",
              "  </tbody>\n",
              "</table>\n",
              "<p>5 rows × 30 columns</p>\n",
              "</div>"
            ],
            "text/plain": [
              "   Age Attrition     BusinessTravel              Department  DistanceFromHome  \\\n",
              "0   51        No      Travel_Rarely                   Sales                 6   \n",
              "1   31       Yes  Travel_Frequently  Research & Development                10   \n",
              "2   32        No  Travel_Frequently  Research & Development                17   \n",
              "3   38        No         Non-Travel  Research & Development                 2   \n",
              "4   32        No      Travel_Rarely  Research & Development                10   \n",
              "\n",
              "   Education EducationField  EmployeeCount  EmployeeID  Gender  ...  \\\n",
              "0          2  Life Sciences              1           1  Female  ...   \n",
              "1          1  Life Sciences              1           2  Female  ...   \n",
              "2          4          Other              1           3    Male  ...   \n",
              "3          5  Life Sciences              1           4    Male  ...   \n",
              "4          1        Medical              1           5    Male  ...   \n",
              "\n",
              "   TrainingTimesLastYear YearsAtCompany YearsSinceLastPromotion  \\\n",
              "0                      6              1                       0   \n",
              "1                      3              5                       1   \n",
              "2                      2              5                       0   \n",
              "3                      5              8                       7   \n",
              "4                      2              6                       0   \n",
              "\n",
              "   YearsWithCurrManager  EnvironmentSatisfaction JobSatisfaction  \\\n",
              "0                     0                      3.0             4.0   \n",
              "1                     4                      3.0             2.0   \n",
              "2                     3                      2.0             2.0   \n",
              "3                     5                      4.0             4.0   \n",
              "4                     4                      4.0             1.0   \n",
              "\n",
              "   WorkLifeBalance  JobInvolvement  PerformanceRating  mean_time  \n",
              "0              2.0               3                  3     6,8702  \n",
              "1              4.0               2                  4      7,316  \n",
              "2              1.0               3                  3     6,8161  \n",
              "3              3.0               2                  3     6,7892  \n",
              "4              3.0               3                  3     7,8776  \n",
              "\n",
              "[5 rows x 30 columns]"
            ]
          },
          "execution_count": 37,
          "metadata": {},
          "output_type": "execute_result"
        }
      ],
      "source": [
        "employees.head()"
      ]
    },
    {
      "cell_type": "code",
      "execution_count": 38,
      "metadata": {
        "colab": {
          "base_uri": "https://localhost:8080/"
        },
        "id": "BNhjMFETtTPR",
        "outputId": "c05d7f46-a135-475d-b6d8-29ce0636b707"
      },
      "outputs": [
        {
          "name": "stdout",
          "output_type": "stream",
          "text": [
            "<class 'pandas.core.frame.DataFrame'>\n",
            "RangeIndex: 4410 entries, 0 to 4409\n",
            "Data columns (total 30 columns):\n",
            " #   Column                   Non-Null Count  Dtype  \n",
            "---  ------                   --------------  -----  \n",
            " 0   Age                      4410 non-null   int64  \n",
            " 1   Attrition                4410 non-null   object \n",
            " 2   BusinessTravel           4410 non-null   object \n",
            " 3   Department               4410 non-null   object \n",
            " 4   DistanceFromHome         4410 non-null   int64  \n",
            " 5   Education                4410 non-null   int64  \n",
            " 6   EducationField           4410 non-null   object \n",
            " 7   EmployeeCount            4410 non-null   int64  \n",
            " 8   EmployeeID               4410 non-null   int64  \n",
            " 9   Gender                   4410 non-null   object \n",
            " 10  JobLevel                 4410 non-null   int64  \n",
            " 11  JobRole                  4410 non-null   object \n",
            " 12  MaritalStatus            4410 non-null   object \n",
            " 13  MonthlyIncome            4410 non-null   int64  \n",
            " 14  NumCompaniesWorked       4391 non-null   float64\n",
            " 15  Over18                   4410 non-null   object \n",
            " 16  PercentSalaryHike        4410 non-null   int64  \n",
            " 17  StandardHours            4410 non-null   int64  \n",
            " 18  StockOptionLevel         4410 non-null   int64  \n",
            " 19  TotalWorkingYears        4401 non-null   float64\n",
            " 20  TrainingTimesLastYear    4410 non-null   int64  \n",
            " 21  YearsAtCompany           4410 non-null   int64  \n",
            " 22  YearsSinceLastPromotion  4410 non-null   int64  \n",
            " 23  YearsWithCurrManager     4410 non-null   int64  \n",
            " 24  EnvironmentSatisfaction  4385 non-null   float64\n",
            " 25  JobSatisfaction          4390 non-null   float64\n",
            " 26  WorkLifeBalance          4372 non-null   float64\n",
            " 27  JobInvolvement           4410 non-null   int64  \n",
            " 28  PerformanceRating        4410 non-null   int64  \n",
            " 29  mean_time                4410 non-null   object \n",
            "dtypes: float64(5), int64(16), object(9)\n",
            "memory usage: 1.0+ MB\n"
          ]
        }
      ],
      "source": [
        "employees.info()"
      ]
    },
    {
      "cell_type": "markdown",
      "metadata": {},
      "source": [
        "# 3. Transformar nombres de columnas"
      ]
    },
    {
      "cell_type": "markdown",
      "metadata": {},
      "source": [
        "## 3.1. De PascalCase a snake_case"
      ]
    },
    {
      "cell_type": "code",
      "execution_count": 39,
      "metadata": {
        "id": "SeWkJukJuXQZ"
      },
      "outputs": [],
      "source": [
        "employees.columns = employees.columns.str.replace(r'(?<!^)(?=[A-Z])', '_', regex=True).str.lower()"
      ]
    },
    {
      "cell_type": "code",
      "execution_count": 40,
      "metadata": {
        "colab": {
          "base_uri": "https://localhost:8080/"
        },
        "id": "DDvDEUh28tLp",
        "outputId": "7fb8b1e1-9d1d-4054-a9cd-35c59d9dbd76"
      },
      "outputs": [
        {
          "data": {
            "text/plain": [
              "Index(['age', 'attrition', 'business_travel', 'department',\n",
              "       'distance_from_home', 'education', 'education_field', 'employee_count',\n",
              "       'employee_i_d', 'gender', 'job_level', 'job_role', 'marital_status',\n",
              "       'monthly_income', 'num_companies_worked', 'over18',\n",
              "       'percent_salary_hike', 'standard_hours', 'stock_option_level',\n",
              "       'total_working_years', 'training_times_last_year', 'years_at_company',\n",
              "       'years_since_last_promotion', 'years_with_curr_manager',\n",
              "       'environment_satisfaction', 'job_satisfaction', 'work_life_balance',\n",
              "       'job_involvement', 'performance_rating', 'mean_time'],\n",
              "      dtype='object')"
            ]
          },
          "execution_count": 40,
          "metadata": {},
          "output_type": "execute_result"
        }
      ],
      "source": [
        "employees.columns"
      ]
    },
    {
      "cell_type": "code",
      "execution_count": 41,
      "metadata": {
        "id": "Oq4wQOug8zOO"
      },
      "outputs": [],
      "source": [
        "employees.columns = employees.columns.str.replace('employee_i_d', 'employee_id')"
      ]
    },
    {
      "cell_type": "markdown",
      "metadata": {},
      "source": [
        "## 3.2. Mover la columna employee_id a la primera posición"
      ]
    },
    {
      "cell_type": "code",
      "execution_count": 42,
      "metadata": {
        "id": "G7JNwTE726o3"
      },
      "outputs": [],
      "source": [
        "#Extraer columna employee_id\n",
        "employee_id = employees.employee_id\n",
        "\n",
        "#Eliminar columna employee_id\n",
        "df_employees = employees.drop('employee_id', axis=1)\n",
        "\n",
        "#Insertar columna employee_id en la primera posición\n",
        "df_employees.insert(0, 'employee_id', employee_id)"
      ]
    },
    {
      "cell_type": "code",
      "execution_count": 43,
      "metadata": {
        "colab": {
          "base_uri": "https://localhost:8080/",
          "height": 325
        },
        "id": "hDJlP51u5HPX",
        "outputId": "c7f444b5-ddab-403a-cb77-6869ec605dfa"
      },
      "outputs": [
        {
          "data": {
            "text/html": [
              "<div>\n",
              "<style scoped>\n",
              "    .dataframe tbody tr th:only-of-type {\n",
              "        vertical-align: middle;\n",
              "    }\n",
              "\n",
              "    .dataframe tbody tr th {\n",
              "        vertical-align: top;\n",
              "    }\n",
              "\n",
              "    .dataframe thead th {\n",
              "        text-align: right;\n",
              "    }\n",
              "</style>\n",
              "<table border=\"1\" class=\"dataframe\">\n",
              "  <thead>\n",
              "    <tr style=\"text-align: right;\">\n",
              "      <th></th>\n",
              "      <th>employee_id</th>\n",
              "      <th>age</th>\n",
              "      <th>attrition</th>\n",
              "      <th>business_travel</th>\n",
              "      <th>department</th>\n",
              "      <th>distance_from_home</th>\n",
              "      <th>education</th>\n",
              "      <th>education_field</th>\n",
              "      <th>employee_count</th>\n",
              "      <th>gender</th>\n",
              "      <th>...</th>\n",
              "      <th>training_times_last_year</th>\n",
              "      <th>years_at_company</th>\n",
              "      <th>years_since_last_promotion</th>\n",
              "      <th>years_with_curr_manager</th>\n",
              "      <th>environment_satisfaction</th>\n",
              "      <th>job_satisfaction</th>\n",
              "      <th>work_life_balance</th>\n",
              "      <th>job_involvement</th>\n",
              "      <th>performance_rating</th>\n",
              "      <th>mean_time</th>\n",
              "    </tr>\n",
              "  </thead>\n",
              "  <tbody>\n",
              "    <tr>\n",
              "      <th>0</th>\n",
              "      <td>1</td>\n",
              "      <td>51</td>\n",
              "      <td>No</td>\n",
              "      <td>Travel_Rarely</td>\n",
              "      <td>Sales</td>\n",
              "      <td>6</td>\n",
              "      <td>2</td>\n",
              "      <td>Life Sciences</td>\n",
              "      <td>1</td>\n",
              "      <td>Female</td>\n",
              "      <td>...</td>\n",
              "      <td>6</td>\n",
              "      <td>1</td>\n",
              "      <td>0</td>\n",
              "      <td>0</td>\n",
              "      <td>3.0</td>\n",
              "      <td>4.0</td>\n",
              "      <td>2.0</td>\n",
              "      <td>3</td>\n",
              "      <td>3</td>\n",
              "      <td>6,8702</td>\n",
              "    </tr>\n",
              "    <tr>\n",
              "      <th>1</th>\n",
              "      <td>2</td>\n",
              "      <td>31</td>\n",
              "      <td>Yes</td>\n",
              "      <td>Travel_Frequently</td>\n",
              "      <td>Research &amp; Development</td>\n",
              "      <td>10</td>\n",
              "      <td>1</td>\n",
              "      <td>Life Sciences</td>\n",
              "      <td>1</td>\n",
              "      <td>Female</td>\n",
              "      <td>...</td>\n",
              "      <td>3</td>\n",
              "      <td>5</td>\n",
              "      <td>1</td>\n",
              "      <td>4</td>\n",
              "      <td>3.0</td>\n",
              "      <td>2.0</td>\n",
              "      <td>4.0</td>\n",
              "      <td>2</td>\n",
              "      <td>4</td>\n",
              "      <td>7,316</td>\n",
              "    </tr>\n",
              "    <tr>\n",
              "      <th>2</th>\n",
              "      <td>3</td>\n",
              "      <td>32</td>\n",
              "      <td>No</td>\n",
              "      <td>Travel_Frequently</td>\n",
              "      <td>Research &amp; Development</td>\n",
              "      <td>17</td>\n",
              "      <td>4</td>\n",
              "      <td>Other</td>\n",
              "      <td>1</td>\n",
              "      <td>Male</td>\n",
              "      <td>...</td>\n",
              "      <td>2</td>\n",
              "      <td>5</td>\n",
              "      <td>0</td>\n",
              "      <td>3</td>\n",
              "      <td>2.0</td>\n",
              "      <td>2.0</td>\n",
              "      <td>1.0</td>\n",
              "      <td>3</td>\n",
              "      <td>3</td>\n",
              "      <td>6,8161</td>\n",
              "    </tr>\n",
              "    <tr>\n",
              "      <th>3</th>\n",
              "      <td>4</td>\n",
              "      <td>38</td>\n",
              "      <td>No</td>\n",
              "      <td>Non-Travel</td>\n",
              "      <td>Research &amp; Development</td>\n",
              "      <td>2</td>\n",
              "      <td>5</td>\n",
              "      <td>Life Sciences</td>\n",
              "      <td>1</td>\n",
              "      <td>Male</td>\n",
              "      <td>...</td>\n",
              "      <td>5</td>\n",
              "      <td>8</td>\n",
              "      <td>7</td>\n",
              "      <td>5</td>\n",
              "      <td>4.0</td>\n",
              "      <td>4.0</td>\n",
              "      <td>3.0</td>\n",
              "      <td>2</td>\n",
              "      <td>3</td>\n",
              "      <td>6,7892</td>\n",
              "    </tr>\n",
              "    <tr>\n",
              "      <th>4</th>\n",
              "      <td>5</td>\n",
              "      <td>32</td>\n",
              "      <td>No</td>\n",
              "      <td>Travel_Rarely</td>\n",
              "      <td>Research &amp; Development</td>\n",
              "      <td>10</td>\n",
              "      <td>1</td>\n",
              "      <td>Medical</td>\n",
              "      <td>1</td>\n",
              "      <td>Male</td>\n",
              "      <td>...</td>\n",
              "      <td>2</td>\n",
              "      <td>6</td>\n",
              "      <td>0</td>\n",
              "      <td>4</td>\n",
              "      <td>4.0</td>\n",
              "      <td>1.0</td>\n",
              "      <td>3.0</td>\n",
              "      <td>3</td>\n",
              "      <td>3</td>\n",
              "      <td>7,8776</td>\n",
              "    </tr>\n",
              "  </tbody>\n",
              "</table>\n",
              "<p>5 rows × 30 columns</p>\n",
              "</div>"
            ],
            "text/plain": [
              "   employee_id  age attrition    business_travel              department  \\\n",
              "0            1   51        No      Travel_Rarely                   Sales   \n",
              "1            2   31       Yes  Travel_Frequently  Research & Development   \n",
              "2            3   32        No  Travel_Frequently  Research & Development   \n",
              "3            4   38        No         Non-Travel  Research & Development   \n",
              "4            5   32        No      Travel_Rarely  Research & Development   \n",
              "\n",
              "   distance_from_home  education education_field  employee_count  gender  ...  \\\n",
              "0                   6          2   Life Sciences               1  Female  ...   \n",
              "1                  10          1   Life Sciences               1  Female  ...   \n",
              "2                  17          4           Other               1    Male  ...   \n",
              "3                   2          5   Life Sciences               1    Male  ...   \n",
              "4                  10          1         Medical               1    Male  ...   \n",
              "\n",
              "   training_times_last_year years_at_company years_since_last_promotion  \\\n",
              "0                         6                1                          0   \n",
              "1                         3                5                          1   \n",
              "2                         2                5                          0   \n",
              "3                         5                8                          7   \n",
              "4                         2                6                          0   \n",
              "\n",
              "   years_with_curr_manager  environment_satisfaction job_satisfaction  \\\n",
              "0                        0                       3.0              4.0   \n",
              "1                        4                       3.0              2.0   \n",
              "2                        3                       2.0              2.0   \n",
              "3                        5                       4.0              4.0   \n",
              "4                        4                       4.0              1.0   \n",
              "\n",
              "   work_life_balance  job_involvement  performance_rating  mean_time  \n",
              "0                2.0                3                   3     6,8702  \n",
              "1                4.0                2                   4      7,316  \n",
              "2                1.0                3                   3     6,8161  \n",
              "3                3.0                2                   3     6,7892  \n",
              "4                3.0                3                   3     7,8776  \n",
              "\n",
              "[5 rows x 30 columns]"
            ]
          },
          "execution_count": 43,
          "metadata": {},
          "output_type": "execute_result"
        }
      ],
      "source": [
        "df_employees.head()"
      ]
    },
    {
      "cell_type": "markdown",
      "metadata": {
        "id": "JSbeuXQzPFus"
      },
      "source": [
        "# 4. Asignar y revisar categorías"
      ]
    },
    {
      "cell_type": "markdown",
      "metadata": {},
      "source": [
        "## 4.1. Asignar categorías"
      ]
    },
    {
      "cell_type": "code",
      "execution_count": 44,
      "metadata": {
        "id": "9O6aX5oBLlOU"
      },
      "outputs": [],
      "source": [
        "education = {\n",
        "    1 : \"Por debajo de la universidad\",\n",
        "    2 : \"Universitario\",\n",
        "    3 : \"Licenciado\",\n",
        "    4 : \"Máster\",\n",
        "    5 : \"Doctor\"\n",
        "}\n",
        "environment_satisfaction = job_satisfaction = job_involvement = {\n",
        "    1: 'Bajo',\n",
        "    2: 'Medio',\n",
        "    3: 'Alto',\n",
        "    4: 'Muy alto'\n",
        "}\n",
        "performance_rating = {\n",
        "    1: 'Bajo',\n",
        "    2: 'Bueno',\n",
        "    3: 'Excelente',\n",
        "    4: 'Sobresaliente'\n",
        "}\n",
        "work_life_balance = {\n",
        "    1: 'Mala',\n",
        "    2: 'Buena',\n",
        "    3: 'Muy buena',\n",
        "    4: 'La mejor'\n",
        "}\n",
        "over18 = {\n",
        "    'Y':'Sí',\n",
        "    'N':'No'\n",
        "}"
      ]
    },
    {
      "cell_type": "code",
      "execution_count": 45,
      "metadata": {
        "id": "NA06LMU-KzzB"
      },
      "outputs": [],
      "source": [
        "df_employees.education = df_employees.education.replace(education)\n",
        "df_employees.environment_satisfaction = df_employees.environment_satisfaction.replace(environment_satisfaction)\n",
        "df_employees.job_satisfaction = df_employees.job_satisfaction.replace(job_satisfaction)\n",
        "df_employees.performance_rating = df_employees.performance_rating.replace(performance_rating)\n",
        "df_employees.job_involvement = df_employees.job_involvement.replace(job_involvement)\n",
        "df_employees.work_life_balance = df_employees.work_life_balance.replace(work_life_balance)\n",
        "df_employees.over18 = df_employees.over18.replace(over18)"
      ]
    },
    {
      "cell_type": "markdown",
      "metadata": {},
      "source": [
        "## 4.2. Transformar variables cuantitativas discretas que se tratarán como variables categóricas."
      ]
    },
    {
      "cell_type": "code",
      "execution_count": 46,
      "metadata": {},
      "outputs": [
        {
          "data": {
            "text/plain": [
              "job_level\n",
              "1    1629\n",
              "2    1602\n",
              "3     654\n",
              "4     318\n",
              "5     207\n",
              "Name: count, dtype: int64"
            ]
          },
          "execution_count": 46,
          "metadata": {},
          "output_type": "execute_result"
        }
      ],
      "source": [
        "df_employees.job_level.value_counts()"
      ]
    },
    {
      "cell_type": "code",
      "execution_count": 47,
      "metadata": {},
      "outputs": [
        {
          "data": {
            "text/plain": [
              "stock_option_level\n",
              "0    1893\n",
              "1    1788\n",
              "2     474\n",
              "3     255\n",
              "Name: count, dtype: int64"
            ]
          },
          "execution_count": 47,
          "metadata": {},
          "output_type": "execute_result"
        }
      ],
      "source": [
        "df_employees.stock_option_level.value_counts()"
      ]
    },
    {
      "cell_type": "code",
      "execution_count": 48,
      "metadata": {},
      "outputs": [
        {
          "data": {
            "text/plain": [
              "training_times_last_year\n",
              "2    1641\n",
              "3    1473\n",
              "4     369\n",
              "5     357\n",
              "1     213\n",
              "6     195\n",
              "0     162\n",
              "Name: count, dtype: int64"
            ]
          },
          "execution_count": 48,
          "metadata": {},
          "output_type": "execute_result"
        }
      ],
      "source": [
        "df_employees.training_times_last_year.value_counts()"
      ]
    },
    {
      "cell_type": "code",
      "execution_count": 49,
      "metadata": {},
      "outputs": [],
      "source": [
        "df_employees.job_level = df_employees.job_level.astype(str)\n",
        "df_employees.stock_option_level = df_employees.stock_option_level.astype(str)\n",
        "df_employees.training_times_last_year = df_employees.training_times_last_year.astype(str)"
      ]
    },
    {
      "cell_type": "markdown",
      "metadata": {},
      "source": [
        "La columna mean_time tiene formato 'object' debido a que los valores están separados por ','."
      ]
    },
    {
      "cell_type": "code",
      "execution_count": 50,
      "metadata": {},
      "outputs": [],
      "source": [
        "#Reemplazar ',' por '.' y convertir columna a float\n",
        "df_employees.mean_time = df_employees.mean_time.str.replace(',', '.').astype(float)"
      ]
    },
    {
      "cell_type": "markdown",
      "metadata": {},
      "source": [
        "## 4.3. Revisar y validar categorías"
      ]
    },
    {
      "cell_type": "markdown",
      "metadata": {},
      "source": [
        "Seleccionar variables que no son numéricas."
      ]
    },
    {
      "cell_type": "code",
      "execution_count": 51,
      "metadata": {
        "id": "okgkfyrbDa9d"
      },
      "outputs": [],
      "source": [
        "#Obtener variables categóricas\n",
        "category_columns = df_employees.select_dtypes(exclude=['number'])"
      ]
    },
    {
      "cell_type": "markdown",
      "metadata": {},
      "source": [
        "Revisar que no hayan categorías extrañas."
      ]
    },
    {
      "cell_type": "code",
      "execution_count": 52,
      "metadata": {
        "colab": {
          "base_uri": "https://localhost:8080/",
          "height": 1000
        },
        "id": "wTMW1h-bEGds",
        "outputId": "cdf81b1e-535c-4d63-875c-72987d775816"
      },
      "outputs": [
        {
          "data": {
            "text/html": [
              "<style type=\"text/css\">\n",
              "#T_a985a_row0_col0, #T_a985a_row0_col1, #T_a985a_row1_col0, #T_a985a_row1_col1 {\n",
              "  text-align: center;\n",
              "}\n",
              "</style>\n",
              "<table id=\"T_a985a\">\n",
              "  <thead>\n",
              "    <tr>\n",
              "      <th class=\"blank level0\" >&nbsp;</th>\n",
              "      <th id=\"T_a985a_level0_col0\" class=\"col_heading level0 col0\" >attrition</th>\n",
              "      <th id=\"T_a985a_level0_col1\" class=\"col_heading level0 col1\" >count</th>\n",
              "    </tr>\n",
              "  </thead>\n",
              "  <tbody>\n",
              "    <tr>\n",
              "      <th id=\"T_a985a_level0_row0\" class=\"row_heading level0 row0\" >0</th>\n",
              "      <td id=\"T_a985a_row0_col0\" class=\"data row0 col0\" >No</td>\n",
              "      <td id=\"T_a985a_row0_col1\" class=\"data row0 col1\" >3699</td>\n",
              "    </tr>\n",
              "    <tr>\n",
              "      <th id=\"T_a985a_level0_row1\" class=\"row_heading level0 row1\" >1</th>\n",
              "      <td id=\"T_a985a_row1_col0\" class=\"data row1 col0\" >Yes</td>\n",
              "      <td id=\"T_a985a_row1_col1\" class=\"data row1 col1\" >711</td>\n",
              "    </tr>\n",
              "  </tbody>\n",
              "</table>\n"
            ],
            "text/plain": [
              "<pandas.io.formats.style.Styler at 0x22a189baf90>"
            ]
          },
          "metadata": {},
          "output_type": "display_data"
        },
        {
          "name": "stdout",
          "output_type": "stream",
          "text": [
            "\n",
            "----------------------------------\n"
          ]
        },
        {
          "data": {
            "text/html": [
              "<style type=\"text/css\">\n",
              "#T_b1b15_row0_col0, #T_b1b15_row0_col1, #T_b1b15_row1_col0, #T_b1b15_row1_col1, #T_b1b15_row2_col0, #T_b1b15_row2_col1 {\n",
              "  text-align: center;\n",
              "}\n",
              "</style>\n",
              "<table id=\"T_b1b15\">\n",
              "  <thead>\n",
              "    <tr>\n",
              "      <th class=\"blank level0\" >&nbsp;</th>\n",
              "      <th id=\"T_b1b15_level0_col0\" class=\"col_heading level0 col0\" >business_travel</th>\n",
              "      <th id=\"T_b1b15_level0_col1\" class=\"col_heading level0 col1\" >count</th>\n",
              "    </tr>\n",
              "  </thead>\n",
              "  <tbody>\n",
              "    <tr>\n",
              "      <th id=\"T_b1b15_level0_row0\" class=\"row_heading level0 row0\" >0</th>\n",
              "      <td id=\"T_b1b15_row0_col0\" class=\"data row0 col0\" >Non-Travel</td>\n",
              "      <td id=\"T_b1b15_row0_col1\" class=\"data row0 col1\" >450</td>\n",
              "    </tr>\n",
              "    <tr>\n",
              "      <th id=\"T_b1b15_level0_row1\" class=\"row_heading level0 row1\" >1</th>\n",
              "      <td id=\"T_b1b15_row1_col0\" class=\"data row1 col0\" >Travel_Frequently</td>\n",
              "      <td id=\"T_b1b15_row1_col1\" class=\"data row1 col1\" >831</td>\n",
              "    </tr>\n",
              "    <tr>\n",
              "      <th id=\"T_b1b15_level0_row2\" class=\"row_heading level0 row2\" >2</th>\n",
              "      <td id=\"T_b1b15_row2_col0\" class=\"data row2 col0\" >Travel_Rarely</td>\n",
              "      <td id=\"T_b1b15_row2_col1\" class=\"data row2 col1\" >3129</td>\n",
              "    </tr>\n",
              "  </tbody>\n",
              "</table>\n"
            ],
            "text/plain": [
              "<pandas.io.formats.style.Styler at 0x22a17497f90>"
            ]
          },
          "metadata": {},
          "output_type": "display_data"
        },
        {
          "name": "stdout",
          "output_type": "stream",
          "text": [
            "\n",
            "----------------------------------\n"
          ]
        },
        {
          "data": {
            "text/html": [
              "<style type=\"text/css\">\n",
              "#T_fecef_row0_col0, #T_fecef_row0_col1, #T_fecef_row1_col0, #T_fecef_row1_col1, #T_fecef_row2_col0, #T_fecef_row2_col1 {\n",
              "  text-align: center;\n",
              "}\n",
              "</style>\n",
              "<table id=\"T_fecef\">\n",
              "  <thead>\n",
              "    <tr>\n",
              "      <th class=\"blank level0\" >&nbsp;</th>\n",
              "      <th id=\"T_fecef_level0_col0\" class=\"col_heading level0 col0\" >department</th>\n",
              "      <th id=\"T_fecef_level0_col1\" class=\"col_heading level0 col1\" >count</th>\n",
              "    </tr>\n",
              "  </thead>\n",
              "  <tbody>\n",
              "    <tr>\n",
              "      <th id=\"T_fecef_level0_row0\" class=\"row_heading level0 row0\" >0</th>\n",
              "      <td id=\"T_fecef_row0_col0\" class=\"data row0 col0\" >Human Resources</td>\n",
              "      <td id=\"T_fecef_row0_col1\" class=\"data row0 col1\" >189</td>\n",
              "    </tr>\n",
              "    <tr>\n",
              "      <th id=\"T_fecef_level0_row1\" class=\"row_heading level0 row1\" >1</th>\n",
              "      <td id=\"T_fecef_row1_col0\" class=\"data row1 col0\" >Research & Development</td>\n",
              "      <td id=\"T_fecef_row1_col1\" class=\"data row1 col1\" >2883</td>\n",
              "    </tr>\n",
              "    <tr>\n",
              "      <th id=\"T_fecef_level0_row2\" class=\"row_heading level0 row2\" >2</th>\n",
              "      <td id=\"T_fecef_row2_col0\" class=\"data row2 col0\" >Sales</td>\n",
              "      <td id=\"T_fecef_row2_col1\" class=\"data row2 col1\" >1338</td>\n",
              "    </tr>\n",
              "  </tbody>\n",
              "</table>\n"
            ],
            "text/plain": [
              "<pandas.io.formats.style.Styler at 0x22a189a4550>"
            ]
          },
          "metadata": {},
          "output_type": "display_data"
        },
        {
          "name": "stdout",
          "output_type": "stream",
          "text": [
            "\n",
            "----------------------------------\n"
          ]
        },
        {
          "data": {
            "text/html": [
              "<style type=\"text/css\">\n",
              "#T_d83e7_row0_col0, #T_d83e7_row0_col1, #T_d83e7_row1_col0, #T_d83e7_row1_col1, #T_d83e7_row2_col0, #T_d83e7_row2_col1, #T_d83e7_row3_col0, #T_d83e7_row3_col1, #T_d83e7_row4_col0, #T_d83e7_row4_col1 {\n",
              "  text-align: center;\n",
              "}\n",
              "</style>\n",
              "<table id=\"T_d83e7\">\n",
              "  <thead>\n",
              "    <tr>\n",
              "      <th class=\"blank level0\" >&nbsp;</th>\n",
              "      <th id=\"T_d83e7_level0_col0\" class=\"col_heading level0 col0\" >education</th>\n",
              "      <th id=\"T_d83e7_level0_col1\" class=\"col_heading level0 col1\" >count</th>\n",
              "    </tr>\n",
              "  </thead>\n",
              "  <tbody>\n",
              "    <tr>\n",
              "      <th id=\"T_d83e7_level0_row0\" class=\"row_heading level0 row0\" >0</th>\n",
              "      <td id=\"T_d83e7_row0_col0\" class=\"data row0 col0\" >Doctor</td>\n",
              "      <td id=\"T_d83e7_row0_col1\" class=\"data row0 col1\" >144</td>\n",
              "    </tr>\n",
              "    <tr>\n",
              "      <th id=\"T_d83e7_level0_row1\" class=\"row_heading level0 row1\" >1</th>\n",
              "      <td id=\"T_d83e7_row1_col0\" class=\"data row1 col0\" >Licenciado</td>\n",
              "      <td id=\"T_d83e7_row1_col1\" class=\"data row1 col1\" >1716</td>\n",
              "    </tr>\n",
              "    <tr>\n",
              "      <th id=\"T_d83e7_level0_row2\" class=\"row_heading level0 row2\" >2</th>\n",
              "      <td id=\"T_d83e7_row2_col0\" class=\"data row2 col0\" >Máster</td>\n",
              "      <td id=\"T_d83e7_row2_col1\" class=\"data row2 col1\" >1194</td>\n",
              "    </tr>\n",
              "    <tr>\n",
              "      <th id=\"T_d83e7_level0_row3\" class=\"row_heading level0 row3\" >3</th>\n",
              "      <td id=\"T_d83e7_row3_col0\" class=\"data row3 col0\" >Por debajo de la universidad</td>\n",
              "      <td id=\"T_d83e7_row3_col1\" class=\"data row3 col1\" >510</td>\n",
              "    </tr>\n",
              "    <tr>\n",
              "      <th id=\"T_d83e7_level0_row4\" class=\"row_heading level0 row4\" >4</th>\n",
              "      <td id=\"T_d83e7_row4_col0\" class=\"data row4 col0\" >Universitario</td>\n",
              "      <td id=\"T_d83e7_row4_col1\" class=\"data row4 col1\" >846</td>\n",
              "    </tr>\n",
              "  </tbody>\n",
              "</table>\n"
            ],
            "text/plain": [
              "<pandas.io.formats.style.Styler at 0x22a16a6fad0>"
            ]
          },
          "metadata": {},
          "output_type": "display_data"
        },
        {
          "name": "stdout",
          "output_type": "stream",
          "text": [
            "\n",
            "----------------------------------\n"
          ]
        },
        {
          "data": {
            "text/html": [
              "<style type=\"text/css\">\n",
              "#T_576cb_row0_col0, #T_576cb_row0_col1, #T_576cb_row1_col0, #T_576cb_row1_col1, #T_576cb_row2_col0, #T_576cb_row2_col1, #T_576cb_row3_col0, #T_576cb_row3_col1, #T_576cb_row4_col0, #T_576cb_row4_col1, #T_576cb_row5_col0, #T_576cb_row5_col1 {\n",
              "  text-align: center;\n",
              "}\n",
              "</style>\n",
              "<table id=\"T_576cb\">\n",
              "  <thead>\n",
              "    <tr>\n",
              "      <th class=\"blank level0\" >&nbsp;</th>\n",
              "      <th id=\"T_576cb_level0_col0\" class=\"col_heading level0 col0\" >education_field</th>\n",
              "      <th id=\"T_576cb_level0_col1\" class=\"col_heading level0 col1\" >count</th>\n",
              "    </tr>\n",
              "  </thead>\n",
              "  <tbody>\n",
              "    <tr>\n",
              "      <th id=\"T_576cb_level0_row0\" class=\"row_heading level0 row0\" >0</th>\n",
              "      <td id=\"T_576cb_row0_col0\" class=\"data row0 col0\" >Human Resources</td>\n",
              "      <td id=\"T_576cb_row0_col1\" class=\"data row0 col1\" >81</td>\n",
              "    </tr>\n",
              "    <tr>\n",
              "      <th id=\"T_576cb_level0_row1\" class=\"row_heading level0 row1\" >1</th>\n",
              "      <td id=\"T_576cb_row1_col0\" class=\"data row1 col0\" >Life Sciences</td>\n",
              "      <td id=\"T_576cb_row1_col1\" class=\"data row1 col1\" >1818</td>\n",
              "    </tr>\n",
              "    <tr>\n",
              "      <th id=\"T_576cb_level0_row2\" class=\"row_heading level0 row2\" >2</th>\n",
              "      <td id=\"T_576cb_row2_col0\" class=\"data row2 col0\" >Marketing</td>\n",
              "      <td id=\"T_576cb_row2_col1\" class=\"data row2 col1\" >477</td>\n",
              "    </tr>\n",
              "    <tr>\n",
              "      <th id=\"T_576cb_level0_row3\" class=\"row_heading level0 row3\" >3</th>\n",
              "      <td id=\"T_576cb_row3_col0\" class=\"data row3 col0\" >Medical</td>\n",
              "      <td id=\"T_576cb_row3_col1\" class=\"data row3 col1\" >1392</td>\n",
              "    </tr>\n",
              "    <tr>\n",
              "      <th id=\"T_576cb_level0_row4\" class=\"row_heading level0 row4\" >4</th>\n",
              "      <td id=\"T_576cb_row4_col0\" class=\"data row4 col0\" >Other</td>\n",
              "      <td id=\"T_576cb_row4_col1\" class=\"data row4 col1\" >246</td>\n",
              "    </tr>\n",
              "    <tr>\n",
              "      <th id=\"T_576cb_level0_row5\" class=\"row_heading level0 row5\" >5</th>\n",
              "      <td id=\"T_576cb_row5_col0\" class=\"data row5 col0\" >Technical Degree</td>\n",
              "      <td id=\"T_576cb_row5_col1\" class=\"data row5 col1\" >396</td>\n",
              "    </tr>\n",
              "  </tbody>\n",
              "</table>\n"
            ],
            "text/plain": [
              "<pandas.io.formats.style.Styler at 0x22a070dd0d0>"
            ]
          },
          "metadata": {},
          "output_type": "display_data"
        },
        {
          "name": "stdout",
          "output_type": "stream",
          "text": [
            "\n",
            "----------------------------------\n"
          ]
        },
        {
          "data": {
            "text/html": [
              "<style type=\"text/css\">\n",
              "#T_e218d_row0_col0, #T_e218d_row0_col1, #T_e218d_row1_col0, #T_e218d_row1_col1 {\n",
              "  text-align: center;\n",
              "}\n",
              "</style>\n",
              "<table id=\"T_e218d\">\n",
              "  <thead>\n",
              "    <tr>\n",
              "      <th class=\"blank level0\" >&nbsp;</th>\n",
              "      <th id=\"T_e218d_level0_col0\" class=\"col_heading level0 col0\" >gender</th>\n",
              "      <th id=\"T_e218d_level0_col1\" class=\"col_heading level0 col1\" >count</th>\n",
              "    </tr>\n",
              "  </thead>\n",
              "  <tbody>\n",
              "    <tr>\n",
              "      <th id=\"T_e218d_level0_row0\" class=\"row_heading level0 row0\" >0</th>\n",
              "      <td id=\"T_e218d_row0_col0\" class=\"data row0 col0\" >Female</td>\n",
              "      <td id=\"T_e218d_row0_col1\" class=\"data row0 col1\" >1764</td>\n",
              "    </tr>\n",
              "    <tr>\n",
              "      <th id=\"T_e218d_level0_row1\" class=\"row_heading level0 row1\" >1</th>\n",
              "      <td id=\"T_e218d_row1_col0\" class=\"data row1 col0\" >Male</td>\n",
              "      <td id=\"T_e218d_row1_col1\" class=\"data row1 col1\" >2646</td>\n",
              "    </tr>\n",
              "  </tbody>\n",
              "</table>\n"
            ],
            "text/plain": [
              "<pandas.io.formats.style.Styler at 0x22a189a6390>"
            ]
          },
          "metadata": {},
          "output_type": "display_data"
        },
        {
          "name": "stdout",
          "output_type": "stream",
          "text": [
            "\n",
            "----------------------------------\n"
          ]
        },
        {
          "data": {
            "text/html": [
              "<style type=\"text/css\">\n",
              "#T_0f5f9_row0_col0, #T_0f5f9_row0_col1, #T_0f5f9_row1_col0, #T_0f5f9_row1_col1, #T_0f5f9_row2_col0, #T_0f5f9_row2_col1, #T_0f5f9_row3_col0, #T_0f5f9_row3_col1, #T_0f5f9_row4_col0, #T_0f5f9_row4_col1 {\n",
              "  text-align: center;\n",
              "}\n",
              "</style>\n",
              "<table id=\"T_0f5f9\">\n",
              "  <thead>\n",
              "    <tr>\n",
              "      <th class=\"blank level0\" >&nbsp;</th>\n",
              "      <th id=\"T_0f5f9_level0_col0\" class=\"col_heading level0 col0\" >job_level</th>\n",
              "      <th id=\"T_0f5f9_level0_col1\" class=\"col_heading level0 col1\" >count</th>\n",
              "    </tr>\n",
              "  </thead>\n",
              "  <tbody>\n",
              "    <tr>\n",
              "      <th id=\"T_0f5f9_level0_row0\" class=\"row_heading level0 row0\" >0</th>\n",
              "      <td id=\"T_0f5f9_row0_col0\" class=\"data row0 col0\" >1</td>\n",
              "      <td id=\"T_0f5f9_row0_col1\" class=\"data row0 col1\" >1629</td>\n",
              "    </tr>\n",
              "    <tr>\n",
              "      <th id=\"T_0f5f9_level0_row1\" class=\"row_heading level0 row1\" >1</th>\n",
              "      <td id=\"T_0f5f9_row1_col0\" class=\"data row1 col0\" >2</td>\n",
              "      <td id=\"T_0f5f9_row1_col1\" class=\"data row1 col1\" >1602</td>\n",
              "    </tr>\n",
              "    <tr>\n",
              "      <th id=\"T_0f5f9_level0_row2\" class=\"row_heading level0 row2\" >2</th>\n",
              "      <td id=\"T_0f5f9_row2_col0\" class=\"data row2 col0\" >3</td>\n",
              "      <td id=\"T_0f5f9_row2_col1\" class=\"data row2 col1\" >654</td>\n",
              "    </tr>\n",
              "    <tr>\n",
              "      <th id=\"T_0f5f9_level0_row3\" class=\"row_heading level0 row3\" >3</th>\n",
              "      <td id=\"T_0f5f9_row3_col0\" class=\"data row3 col0\" >4</td>\n",
              "      <td id=\"T_0f5f9_row3_col1\" class=\"data row3 col1\" >318</td>\n",
              "    </tr>\n",
              "    <tr>\n",
              "      <th id=\"T_0f5f9_level0_row4\" class=\"row_heading level0 row4\" >4</th>\n",
              "      <td id=\"T_0f5f9_row4_col0\" class=\"data row4 col0\" >5</td>\n",
              "      <td id=\"T_0f5f9_row4_col1\" class=\"data row4 col1\" >207</td>\n",
              "    </tr>\n",
              "  </tbody>\n",
              "</table>\n"
            ],
            "text/plain": [
              "<pandas.io.formats.style.Styler at 0x22a178e20d0>"
            ]
          },
          "metadata": {},
          "output_type": "display_data"
        },
        {
          "name": "stdout",
          "output_type": "stream",
          "text": [
            "\n",
            "----------------------------------\n"
          ]
        },
        {
          "data": {
            "text/html": [
              "<style type=\"text/css\">\n",
              "#T_43d1d_row0_col0, #T_43d1d_row0_col1, #T_43d1d_row1_col0, #T_43d1d_row1_col1, #T_43d1d_row2_col0, #T_43d1d_row2_col1, #T_43d1d_row3_col0, #T_43d1d_row3_col1, #T_43d1d_row4_col0, #T_43d1d_row4_col1, #T_43d1d_row5_col0, #T_43d1d_row5_col1, #T_43d1d_row6_col0, #T_43d1d_row6_col1, #T_43d1d_row7_col0, #T_43d1d_row7_col1, #T_43d1d_row8_col0, #T_43d1d_row8_col1 {\n",
              "  text-align: center;\n",
              "}\n",
              "</style>\n",
              "<table id=\"T_43d1d\">\n",
              "  <thead>\n",
              "    <tr>\n",
              "      <th class=\"blank level0\" >&nbsp;</th>\n",
              "      <th id=\"T_43d1d_level0_col0\" class=\"col_heading level0 col0\" >job_role</th>\n",
              "      <th id=\"T_43d1d_level0_col1\" class=\"col_heading level0 col1\" >count</th>\n",
              "    </tr>\n",
              "  </thead>\n",
              "  <tbody>\n",
              "    <tr>\n",
              "      <th id=\"T_43d1d_level0_row0\" class=\"row_heading level0 row0\" >0</th>\n",
              "      <td id=\"T_43d1d_row0_col0\" class=\"data row0 col0\" >Healthcare Representative</td>\n",
              "      <td id=\"T_43d1d_row0_col1\" class=\"data row0 col1\" >393</td>\n",
              "    </tr>\n",
              "    <tr>\n",
              "      <th id=\"T_43d1d_level0_row1\" class=\"row_heading level0 row1\" >1</th>\n",
              "      <td id=\"T_43d1d_row1_col0\" class=\"data row1 col0\" >Human Resources</td>\n",
              "      <td id=\"T_43d1d_row1_col1\" class=\"data row1 col1\" >156</td>\n",
              "    </tr>\n",
              "    <tr>\n",
              "      <th id=\"T_43d1d_level0_row2\" class=\"row_heading level0 row2\" >2</th>\n",
              "      <td id=\"T_43d1d_row2_col0\" class=\"data row2 col0\" >Laboratory Technician</td>\n",
              "      <td id=\"T_43d1d_row2_col1\" class=\"data row2 col1\" >777</td>\n",
              "    </tr>\n",
              "    <tr>\n",
              "      <th id=\"T_43d1d_level0_row3\" class=\"row_heading level0 row3\" >3</th>\n",
              "      <td id=\"T_43d1d_row3_col0\" class=\"data row3 col0\" >Manager</td>\n",
              "      <td id=\"T_43d1d_row3_col1\" class=\"data row3 col1\" >306</td>\n",
              "    </tr>\n",
              "    <tr>\n",
              "      <th id=\"T_43d1d_level0_row4\" class=\"row_heading level0 row4\" >4</th>\n",
              "      <td id=\"T_43d1d_row4_col0\" class=\"data row4 col0\" >Manufacturing Director</td>\n",
              "      <td id=\"T_43d1d_row4_col1\" class=\"data row4 col1\" >435</td>\n",
              "    </tr>\n",
              "    <tr>\n",
              "      <th id=\"T_43d1d_level0_row5\" class=\"row_heading level0 row5\" >5</th>\n",
              "      <td id=\"T_43d1d_row5_col0\" class=\"data row5 col0\" >Research Director</td>\n",
              "      <td id=\"T_43d1d_row5_col1\" class=\"data row5 col1\" >240</td>\n",
              "    </tr>\n",
              "    <tr>\n",
              "      <th id=\"T_43d1d_level0_row6\" class=\"row_heading level0 row6\" >6</th>\n",
              "      <td id=\"T_43d1d_row6_col0\" class=\"data row6 col0\" >Research Scientist</td>\n",
              "      <td id=\"T_43d1d_row6_col1\" class=\"data row6 col1\" >876</td>\n",
              "    </tr>\n",
              "    <tr>\n",
              "      <th id=\"T_43d1d_level0_row7\" class=\"row_heading level0 row7\" >7</th>\n",
              "      <td id=\"T_43d1d_row7_col0\" class=\"data row7 col0\" >Sales Executive</td>\n",
              "      <td id=\"T_43d1d_row7_col1\" class=\"data row7 col1\" >978</td>\n",
              "    </tr>\n",
              "    <tr>\n",
              "      <th id=\"T_43d1d_level0_row8\" class=\"row_heading level0 row8\" >8</th>\n",
              "      <td id=\"T_43d1d_row8_col0\" class=\"data row8 col0\" >Sales Representative</td>\n",
              "      <td id=\"T_43d1d_row8_col1\" class=\"data row8 col1\" >249</td>\n",
              "    </tr>\n",
              "  </tbody>\n",
              "</table>\n"
            ],
            "text/plain": [
              "<pandas.io.formats.style.Styler at 0x22a1785a290>"
            ]
          },
          "metadata": {},
          "output_type": "display_data"
        },
        {
          "name": "stdout",
          "output_type": "stream",
          "text": [
            "\n",
            "----------------------------------\n"
          ]
        },
        {
          "data": {
            "text/html": [
              "<style type=\"text/css\">\n",
              "#T_e8bdf_row0_col0, #T_e8bdf_row0_col1, #T_e8bdf_row1_col0, #T_e8bdf_row1_col1, #T_e8bdf_row2_col0, #T_e8bdf_row2_col1 {\n",
              "  text-align: center;\n",
              "}\n",
              "</style>\n",
              "<table id=\"T_e8bdf\">\n",
              "  <thead>\n",
              "    <tr>\n",
              "      <th class=\"blank level0\" >&nbsp;</th>\n",
              "      <th id=\"T_e8bdf_level0_col0\" class=\"col_heading level0 col0\" >marital_status</th>\n",
              "      <th id=\"T_e8bdf_level0_col1\" class=\"col_heading level0 col1\" >count</th>\n",
              "    </tr>\n",
              "  </thead>\n",
              "  <tbody>\n",
              "    <tr>\n",
              "      <th id=\"T_e8bdf_level0_row0\" class=\"row_heading level0 row0\" >0</th>\n",
              "      <td id=\"T_e8bdf_row0_col0\" class=\"data row0 col0\" >Divorced</td>\n",
              "      <td id=\"T_e8bdf_row0_col1\" class=\"data row0 col1\" >981</td>\n",
              "    </tr>\n",
              "    <tr>\n",
              "      <th id=\"T_e8bdf_level0_row1\" class=\"row_heading level0 row1\" >1</th>\n",
              "      <td id=\"T_e8bdf_row1_col0\" class=\"data row1 col0\" >Married</td>\n",
              "      <td id=\"T_e8bdf_row1_col1\" class=\"data row1 col1\" >2019</td>\n",
              "    </tr>\n",
              "    <tr>\n",
              "      <th id=\"T_e8bdf_level0_row2\" class=\"row_heading level0 row2\" >2</th>\n",
              "      <td id=\"T_e8bdf_row2_col0\" class=\"data row2 col0\" >Single</td>\n",
              "      <td id=\"T_e8bdf_row2_col1\" class=\"data row2 col1\" >1410</td>\n",
              "    </tr>\n",
              "  </tbody>\n",
              "</table>\n"
            ],
            "text/plain": [
              "<pandas.io.formats.style.Styler at 0x22a17497f90>"
            ]
          },
          "metadata": {},
          "output_type": "display_data"
        },
        {
          "name": "stdout",
          "output_type": "stream",
          "text": [
            "\n",
            "----------------------------------\n"
          ]
        },
        {
          "data": {
            "text/html": [
              "<style type=\"text/css\">\n",
              "#T_c5e2c_row0_col0, #T_c5e2c_row0_col1 {\n",
              "  text-align: center;\n",
              "}\n",
              "</style>\n",
              "<table id=\"T_c5e2c\">\n",
              "  <thead>\n",
              "    <tr>\n",
              "      <th class=\"blank level0\" >&nbsp;</th>\n",
              "      <th id=\"T_c5e2c_level0_col0\" class=\"col_heading level0 col0\" >over18</th>\n",
              "      <th id=\"T_c5e2c_level0_col1\" class=\"col_heading level0 col1\" >count</th>\n",
              "    </tr>\n",
              "  </thead>\n",
              "  <tbody>\n",
              "    <tr>\n",
              "      <th id=\"T_c5e2c_level0_row0\" class=\"row_heading level0 row0\" >0</th>\n",
              "      <td id=\"T_c5e2c_row0_col0\" class=\"data row0 col0\" >Sí</td>\n",
              "      <td id=\"T_c5e2c_row0_col1\" class=\"data row0 col1\" >4410</td>\n",
              "    </tr>\n",
              "  </tbody>\n",
              "</table>\n"
            ],
            "text/plain": [
              "<pandas.io.formats.style.Styler at 0x22a189cfed0>"
            ]
          },
          "metadata": {},
          "output_type": "display_data"
        },
        {
          "name": "stdout",
          "output_type": "stream",
          "text": [
            "\n",
            "----------------------------------\n"
          ]
        },
        {
          "data": {
            "text/html": [
              "<style type=\"text/css\">\n",
              "#T_329fe_row0_col0, #T_329fe_row0_col1, #T_329fe_row1_col0, #T_329fe_row1_col1, #T_329fe_row2_col0, #T_329fe_row2_col1, #T_329fe_row3_col0, #T_329fe_row3_col1 {\n",
              "  text-align: center;\n",
              "}\n",
              "</style>\n",
              "<table id=\"T_329fe\">\n",
              "  <thead>\n",
              "    <tr>\n",
              "      <th class=\"blank level0\" >&nbsp;</th>\n",
              "      <th id=\"T_329fe_level0_col0\" class=\"col_heading level0 col0\" >stock_option_level</th>\n",
              "      <th id=\"T_329fe_level0_col1\" class=\"col_heading level0 col1\" >count</th>\n",
              "    </tr>\n",
              "  </thead>\n",
              "  <tbody>\n",
              "    <tr>\n",
              "      <th id=\"T_329fe_level0_row0\" class=\"row_heading level0 row0\" >0</th>\n",
              "      <td id=\"T_329fe_row0_col0\" class=\"data row0 col0\" >0</td>\n",
              "      <td id=\"T_329fe_row0_col1\" class=\"data row0 col1\" >1893</td>\n",
              "    </tr>\n",
              "    <tr>\n",
              "      <th id=\"T_329fe_level0_row1\" class=\"row_heading level0 row1\" >1</th>\n",
              "      <td id=\"T_329fe_row1_col0\" class=\"data row1 col0\" >1</td>\n",
              "      <td id=\"T_329fe_row1_col1\" class=\"data row1 col1\" >1788</td>\n",
              "    </tr>\n",
              "    <tr>\n",
              "      <th id=\"T_329fe_level0_row2\" class=\"row_heading level0 row2\" >2</th>\n",
              "      <td id=\"T_329fe_row2_col0\" class=\"data row2 col0\" >2</td>\n",
              "      <td id=\"T_329fe_row2_col1\" class=\"data row2 col1\" >474</td>\n",
              "    </tr>\n",
              "    <tr>\n",
              "      <th id=\"T_329fe_level0_row3\" class=\"row_heading level0 row3\" >3</th>\n",
              "      <td id=\"T_329fe_row3_col0\" class=\"data row3 col0\" >3</td>\n",
              "      <td id=\"T_329fe_row3_col1\" class=\"data row3 col1\" >255</td>\n",
              "    </tr>\n",
              "  </tbody>\n",
              "</table>\n"
            ],
            "text/plain": [
              "<pandas.io.formats.style.Styler at 0x22a178ef310>"
            ]
          },
          "metadata": {},
          "output_type": "display_data"
        },
        {
          "name": "stdout",
          "output_type": "stream",
          "text": [
            "\n",
            "----------------------------------\n"
          ]
        },
        {
          "data": {
            "text/html": [
              "<style type=\"text/css\">\n",
              "#T_1806f_row0_col0, #T_1806f_row0_col1, #T_1806f_row1_col0, #T_1806f_row1_col1, #T_1806f_row2_col0, #T_1806f_row2_col1, #T_1806f_row3_col0, #T_1806f_row3_col1, #T_1806f_row4_col0, #T_1806f_row4_col1, #T_1806f_row5_col0, #T_1806f_row5_col1, #T_1806f_row6_col0, #T_1806f_row6_col1 {\n",
              "  text-align: center;\n",
              "}\n",
              "</style>\n",
              "<table id=\"T_1806f\">\n",
              "  <thead>\n",
              "    <tr>\n",
              "      <th class=\"blank level0\" >&nbsp;</th>\n",
              "      <th id=\"T_1806f_level0_col0\" class=\"col_heading level0 col0\" >training_times_last_year</th>\n",
              "      <th id=\"T_1806f_level0_col1\" class=\"col_heading level0 col1\" >count</th>\n",
              "    </tr>\n",
              "  </thead>\n",
              "  <tbody>\n",
              "    <tr>\n",
              "      <th id=\"T_1806f_level0_row0\" class=\"row_heading level0 row0\" >0</th>\n",
              "      <td id=\"T_1806f_row0_col0\" class=\"data row0 col0\" >0</td>\n",
              "      <td id=\"T_1806f_row0_col1\" class=\"data row0 col1\" >162</td>\n",
              "    </tr>\n",
              "    <tr>\n",
              "      <th id=\"T_1806f_level0_row1\" class=\"row_heading level0 row1\" >1</th>\n",
              "      <td id=\"T_1806f_row1_col0\" class=\"data row1 col0\" >1</td>\n",
              "      <td id=\"T_1806f_row1_col1\" class=\"data row1 col1\" >213</td>\n",
              "    </tr>\n",
              "    <tr>\n",
              "      <th id=\"T_1806f_level0_row2\" class=\"row_heading level0 row2\" >2</th>\n",
              "      <td id=\"T_1806f_row2_col0\" class=\"data row2 col0\" >2</td>\n",
              "      <td id=\"T_1806f_row2_col1\" class=\"data row2 col1\" >1641</td>\n",
              "    </tr>\n",
              "    <tr>\n",
              "      <th id=\"T_1806f_level0_row3\" class=\"row_heading level0 row3\" >3</th>\n",
              "      <td id=\"T_1806f_row3_col0\" class=\"data row3 col0\" >3</td>\n",
              "      <td id=\"T_1806f_row3_col1\" class=\"data row3 col1\" >1473</td>\n",
              "    </tr>\n",
              "    <tr>\n",
              "      <th id=\"T_1806f_level0_row4\" class=\"row_heading level0 row4\" >4</th>\n",
              "      <td id=\"T_1806f_row4_col0\" class=\"data row4 col0\" >4</td>\n",
              "      <td id=\"T_1806f_row4_col1\" class=\"data row4 col1\" >369</td>\n",
              "    </tr>\n",
              "    <tr>\n",
              "      <th id=\"T_1806f_level0_row5\" class=\"row_heading level0 row5\" >5</th>\n",
              "      <td id=\"T_1806f_row5_col0\" class=\"data row5 col0\" >5</td>\n",
              "      <td id=\"T_1806f_row5_col1\" class=\"data row5 col1\" >357</td>\n",
              "    </tr>\n",
              "    <tr>\n",
              "      <th id=\"T_1806f_level0_row6\" class=\"row_heading level0 row6\" >6</th>\n",
              "      <td id=\"T_1806f_row6_col0\" class=\"data row6 col0\" >6</td>\n",
              "      <td id=\"T_1806f_row6_col1\" class=\"data row6 col1\" >195</td>\n",
              "    </tr>\n",
              "  </tbody>\n",
              "</table>\n"
            ],
            "text/plain": [
              "<pandas.io.formats.style.Styler at 0x22a16a7cc90>"
            ]
          },
          "metadata": {},
          "output_type": "display_data"
        },
        {
          "name": "stdout",
          "output_type": "stream",
          "text": [
            "\n",
            "----------------------------------\n"
          ]
        },
        {
          "data": {
            "text/html": [
              "<style type=\"text/css\">\n",
              "#T_98748_row0_col0, #T_98748_row0_col1, #T_98748_row1_col0, #T_98748_row1_col1, #T_98748_row2_col0, #T_98748_row2_col1, #T_98748_row3_col0, #T_98748_row3_col1, #T_98748_row4_col0, #T_98748_row4_col1 {\n",
              "  text-align: center;\n",
              "}\n",
              "</style>\n",
              "<table id=\"T_98748\">\n",
              "  <thead>\n",
              "    <tr>\n",
              "      <th class=\"blank level0\" >&nbsp;</th>\n",
              "      <th id=\"T_98748_level0_col0\" class=\"col_heading level0 col0\" >environment_satisfaction</th>\n",
              "      <th id=\"T_98748_level0_col1\" class=\"col_heading level0 col1\" >count</th>\n",
              "    </tr>\n",
              "  </thead>\n",
              "  <tbody>\n",
              "    <tr>\n",
              "      <th id=\"T_98748_level0_row0\" class=\"row_heading level0 row0\" >0</th>\n",
              "      <td id=\"T_98748_row0_col0\" class=\"data row0 col0\" >Alto</td>\n",
              "      <td id=\"T_98748_row0_col1\" class=\"data row0 col1\" >1350</td>\n",
              "    </tr>\n",
              "    <tr>\n",
              "      <th id=\"T_98748_level0_row1\" class=\"row_heading level0 row1\" >1</th>\n",
              "      <td id=\"T_98748_row1_col0\" class=\"data row1 col0\" >Bajo</td>\n",
              "      <td id=\"T_98748_row1_col1\" class=\"data row1 col1\" >845</td>\n",
              "    </tr>\n",
              "    <tr>\n",
              "      <th id=\"T_98748_level0_row2\" class=\"row_heading level0 row2\" >2</th>\n",
              "      <td id=\"T_98748_row2_col0\" class=\"data row2 col0\" >Medio</td>\n",
              "      <td id=\"T_98748_row2_col1\" class=\"data row2 col1\" >856</td>\n",
              "    </tr>\n",
              "    <tr>\n",
              "      <th id=\"T_98748_level0_row3\" class=\"row_heading level0 row3\" >3</th>\n",
              "      <td id=\"T_98748_row3_col0\" class=\"data row3 col0\" >Muy alto</td>\n",
              "      <td id=\"T_98748_row3_col1\" class=\"data row3 col1\" >1334</td>\n",
              "    </tr>\n",
              "    <tr>\n",
              "      <th id=\"T_98748_level0_row4\" class=\"row_heading level0 row4\" >4</th>\n",
              "      <td id=\"T_98748_row4_col0\" class=\"data row4 col0\" >nan</td>\n",
              "      <td id=\"T_98748_row4_col1\" class=\"data row4 col1\" >25</td>\n",
              "    </tr>\n",
              "  </tbody>\n",
              "</table>\n"
            ],
            "text/plain": [
              "<pandas.io.formats.style.Styler at 0x22a18992290>"
            ]
          },
          "metadata": {},
          "output_type": "display_data"
        },
        {
          "name": "stdout",
          "output_type": "stream",
          "text": [
            "\n",
            "----------------------------------\n"
          ]
        },
        {
          "data": {
            "text/html": [
              "<style type=\"text/css\">\n",
              "#T_44fff_row0_col0, #T_44fff_row0_col1, #T_44fff_row1_col0, #T_44fff_row1_col1, #T_44fff_row2_col0, #T_44fff_row2_col1, #T_44fff_row3_col0, #T_44fff_row3_col1, #T_44fff_row4_col0, #T_44fff_row4_col1 {\n",
              "  text-align: center;\n",
              "}\n",
              "</style>\n",
              "<table id=\"T_44fff\">\n",
              "  <thead>\n",
              "    <tr>\n",
              "      <th class=\"blank level0\" >&nbsp;</th>\n",
              "      <th id=\"T_44fff_level0_col0\" class=\"col_heading level0 col0\" >job_satisfaction</th>\n",
              "      <th id=\"T_44fff_level0_col1\" class=\"col_heading level0 col1\" >count</th>\n",
              "    </tr>\n",
              "  </thead>\n",
              "  <tbody>\n",
              "    <tr>\n",
              "      <th id=\"T_44fff_level0_row0\" class=\"row_heading level0 row0\" >0</th>\n",
              "      <td id=\"T_44fff_row0_col0\" class=\"data row0 col0\" >Alto</td>\n",
              "      <td id=\"T_44fff_row0_col1\" class=\"data row0 col1\" >1323</td>\n",
              "    </tr>\n",
              "    <tr>\n",
              "      <th id=\"T_44fff_level0_row1\" class=\"row_heading level0 row1\" >1</th>\n",
              "      <td id=\"T_44fff_row1_col0\" class=\"data row1 col0\" >Bajo</td>\n",
              "      <td id=\"T_44fff_row1_col1\" class=\"data row1 col1\" >860</td>\n",
              "    </tr>\n",
              "    <tr>\n",
              "      <th id=\"T_44fff_level0_row2\" class=\"row_heading level0 row2\" >2</th>\n",
              "      <td id=\"T_44fff_row2_col0\" class=\"data row2 col0\" >Medio</td>\n",
              "      <td id=\"T_44fff_row2_col1\" class=\"data row2 col1\" >840</td>\n",
              "    </tr>\n",
              "    <tr>\n",
              "      <th id=\"T_44fff_level0_row3\" class=\"row_heading level0 row3\" >3</th>\n",
              "      <td id=\"T_44fff_row3_col0\" class=\"data row3 col0\" >Muy alto</td>\n",
              "      <td id=\"T_44fff_row3_col1\" class=\"data row3 col1\" >1367</td>\n",
              "    </tr>\n",
              "    <tr>\n",
              "      <th id=\"T_44fff_level0_row4\" class=\"row_heading level0 row4\" >4</th>\n",
              "      <td id=\"T_44fff_row4_col0\" class=\"data row4 col0\" >nan</td>\n",
              "      <td id=\"T_44fff_row4_col1\" class=\"data row4 col1\" >20</td>\n",
              "    </tr>\n",
              "  </tbody>\n",
              "</table>\n"
            ],
            "text/plain": [
              "<pandas.io.formats.style.Styler at 0x22a16b800d0>"
            ]
          },
          "metadata": {},
          "output_type": "display_data"
        },
        {
          "name": "stdout",
          "output_type": "stream",
          "text": [
            "\n",
            "----------------------------------\n"
          ]
        },
        {
          "data": {
            "text/html": [
              "<style type=\"text/css\">\n",
              "#T_c0ead_row0_col0, #T_c0ead_row0_col1, #T_c0ead_row1_col0, #T_c0ead_row1_col1, #T_c0ead_row2_col0, #T_c0ead_row2_col1, #T_c0ead_row3_col0, #T_c0ead_row3_col1, #T_c0ead_row4_col0, #T_c0ead_row4_col1 {\n",
              "  text-align: center;\n",
              "}\n",
              "</style>\n",
              "<table id=\"T_c0ead\">\n",
              "  <thead>\n",
              "    <tr>\n",
              "      <th class=\"blank level0\" >&nbsp;</th>\n",
              "      <th id=\"T_c0ead_level0_col0\" class=\"col_heading level0 col0\" >work_life_balance</th>\n",
              "      <th id=\"T_c0ead_level0_col1\" class=\"col_heading level0 col1\" >count</th>\n",
              "    </tr>\n",
              "  </thead>\n",
              "  <tbody>\n",
              "    <tr>\n",
              "      <th id=\"T_c0ead_level0_row0\" class=\"row_heading level0 row0\" >0</th>\n",
              "      <td id=\"T_c0ead_row0_col0\" class=\"data row0 col0\" >Buena</td>\n",
              "      <td id=\"T_c0ead_row0_col1\" class=\"data row0 col1\" >1019</td>\n",
              "    </tr>\n",
              "    <tr>\n",
              "      <th id=\"T_c0ead_level0_row1\" class=\"row_heading level0 row1\" >1</th>\n",
              "      <td id=\"T_c0ead_row1_col0\" class=\"data row1 col0\" >La mejor</td>\n",
              "      <td id=\"T_c0ead_row1_col1\" class=\"data row1 col1\" >454</td>\n",
              "    </tr>\n",
              "    <tr>\n",
              "      <th id=\"T_c0ead_level0_row2\" class=\"row_heading level0 row2\" >2</th>\n",
              "      <td id=\"T_c0ead_row2_col0\" class=\"data row2 col0\" >Mala</td>\n",
              "      <td id=\"T_c0ead_row2_col1\" class=\"data row2 col1\" >239</td>\n",
              "    </tr>\n",
              "    <tr>\n",
              "      <th id=\"T_c0ead_level0_row3\" class=\"row_heading level0 row3\" >3</th>\n",
              "      <td id=\"T_c0ead_row3_col0\" class=\"data row3 col0\" >Muy buena</td>\n",
              "      <td id=\"T_c0ead_row3_col1\" class=\"data row3 col1\" >2660</td>\n",
              "    </tr>\n",
              "    <tr>\n",
              "      <th id=\"T_c0ead_level0_row4\" class=\"row_heading level0 row4\" >4</th>\n",
              "      <td id=\"T_c0ead_row4_col0\" class=\"data row4 col0\" >nan</td>\n",
              "      <td id=\"T_c0ead_row4_col1\" class=\"data row4 col1\" >38</td>\n",
              "    </tr>\n",
              "  </tbody>\n",
              "</table>\n"
            ],
            "text/plain": [
              "<pandas.io.formats.style.Styler at 0x22a16b803d0>"
            ]
          },
          "metadata": {},
          "output_type": "display_data"
        },
        {
          "name": "stdout",
          "output_type": "stream",
          "text": [
            "\n",
            "----------------------------------\n"
          ]
        },
        {
          "data": {
            "text/html": [
              "<style type=\"text/css\">\n",
              "#T_7b5ef_row0_col0, #T_7b5ef_row0_col1, #T_7b5ef_row1_col0, #T_7b5ef_row1_col1, #T_7b5ef_row2_col0, #T_7b5ef_row2_col1, #T_7b5ef_row3_col0, #T_7b5ef_row3_col1 {\n",
              "  text-align: center;\n",
              "}\n",
              "</style>\n",
              "<table id=\"T_7b5ef\">\n",
              "  <thead>\n",
              "    <tr>\n",
              "      <th class=\"blank level0\" >&nbsp;</th>\n",
              "      <th id=\"T_7b5ef_level0_col0\" class=\"col_heading level0 col0\" >job_involvement</th>\n",
              "      <th id=\"T_7b5ef_level0_col1\" class=\"col_heading level0 col1\" >count</th>\n",
              "    </tr>\n",
              "  </thead>\n",
              "  <tbody>\n",
              "    <tr>\n",
              "      <th id=\"T_7b5ef_level0_row0\" class=\"row_heading level0 row0\" >0</th>\n",
              "      <td id=\"T_7b5ef_row0_col0\" class=\"data row0 col0\" >Alto</td>\n",
              "      <td id=\"T_7b5ef_row0_col1\" class=\"data row0 col1\" >2604</td>\n",
              "    </tr>\n",
              "    <tr>\n",
              "      <th id=\"T_7b5ef_level0_row1\" class=\"row_heading level0 row1\" >1</th>\n",
              "      <td id=\"T_7b5ef_row1_col0\" class=\"data row1 col0\" >Bajo</td>\n",
              "      <td id=\"T_7b5ef_row1_col1\" class=\"data row1 col1\" >249</td>\n",
              "    </tr>\n",
              "    <tr>\n",
              "      <th id=\"T_7b5ef_level0_row2\" class=\"row_heading level0 row2\" >2</th>\n",
              "      <td id=\"T_7b5ef_row2_col0\" class=\"data row2 col0\" >Medio</td>\n",
              "      <td id=\"T_7b5ef_row2_col1\" class=\"data row2 col1\" >1125</td>\n",
              "    </tr>\n",
              "    <tr>\n",
              "      <th id=\"T_7b5ef_level0_row3\" class=\"row_heading level0 row3\" >3</th>\n",
              "      <td id=\"T_7b5ef_row3_col0\" class=\"data row3 col0\" >Muy alto</td>\n",
              "      <td id=\"T_7b5ef_row3_col1\" class=\"data row3 col1\" >432</td>\n",
              "    </tr>\n",
              "  </tbody>\n",
              "</table>\n"
            ],
            "text/plain": [
              "<pandas.io.formats.style.Styler at 0x22a189b8d10>"
            ]
          },
          "metadata": {},
          "output_type": "display_data"
        },
        {
          "name": "stdout",
          "output_type": "stream",
          "text": [
            "\n",
            "----------------------------------\n"
          ]
        },
        {
          "data": {
            "text/html": [
              "<style type=\"text/css\">\n",
              "#T_2d98d_row0_col0, #T_2d98d_row0_col1, #T_2d98d_row1_col0, #T_2d98d_row1_col1 {\n",
              "  text-align: center;\n",
              "}\n",
              "</style>\n",
              "<table id=\"T_2d98d\">\n",
              "  <thead>\n",
              "    <tr>\n",
              "      <th class=\"blank level0\" >&nbsp;</th>\n",
              "      <th id=\"T_2d98d_level0_col0\" class=\"col_heading level0 col0\" >performance_rating</th>\n",
              "      <th id=\"T_2d98d_level0_col1\" class=\"col_heading level0 col1\" >count</th>\n",
              "    </tr>\n",
              "  </thead>\n",
              "  <tbody>\n",
              "    <tr>\n",
              "      <th id=\"T_2d98d_level0_row0\" class=\"row_heading level0 row0\" >0</th>\n",
              "      <td id=\"T_2d98d_row0_col0\" class=\"data row0 col0\" >Excelente</td>\n",
              "      <td id=\"T_2d98d_row0_col1\" class=\"data row0 col1\" >3732</td>\n",
              "    </tr>\n",
              "    <tr>\n",
              "      <th id=\"T_2d98d_level0_row1\" class=\"row_heading level0 row1\" >1</th>\n",
              "      <td id=\"T_2d98d_row1_col0\" class=\"data row1 col0\" >Sobresaliente</td>\n",
              "      <td id=\"T_2d98d_row1_col1\" class=\"data row1 col1\" >678</td>\n",
              "    </tr>\n",
              "  </tbody>\n",
              "</table>\n"
            ],
            "text/plain": [
              "<pandas.io.formats.style.Styler at 0x22a1788e550>"
            ]
          },
          "metadata": {},
          "output_type": "display_data"
        },
        {
          "name": "stdout",
          "output_type": "stream",
          "text": [
            "\n",
            "----------------------------------\n"
          ]
        }
      ],
      "source": [
        "for col in category_columns:\n",
        "    df = df_employees.groupby([col], dropna=False)[['employee_id']].count().rename(columns={'employee_id':'count'}).reset_index()\n",
        "    display(df.style.set_properties(**{'text-align': 'center'}))\n",
        "    print('\\n----------------------------------')"
      ]
    },
    {
      "cell_type": "markdown",
      "metadata": {},
      "source": [
        "Corregir la categoría 'Non-Travel' en la variable 'business_travel'."
      ]
    },
    {
      "cell_type": "code",
      "execution_count": 54,
      "metadata": {},
      "outputs": [
        {
          "data": {
            "text/plain": [
              "array(['Travel_Rarely', 'Travel_Frequently', 'Non_Travel'], dtype=object)"
            ]
          },
          "execution_count": 54,
          "metadata": {},
          "output_type": "execute_result"
        }
      ],
      "source": [
        "df_employees.business_travel = df_employees.business_travel.replace({'Non-Travel':'Non_Travel'})\n",
        "df_employees.business_travel.unique()"
      ]
    },
    {
      "cell_type": "markdown",
      "metadata": {
        "id": "6GrgEkSzPXYX"
      },
      "source": [
        "# 5. Tratar valores faltantes"
      ]
    },
    {
      "cell_type": "markdown",
      "metadata": {},
      "source": [
        "## 5.1. Ver valores faltantes"
      ]
    },
    {
      "cell_type": "code",
      "execution_count": 55,
      "metadata": {
        "colab": {
          "base_uri": "https://localhost:8080/"
        },
        "id": "qWX231ysPbtZ",
        "outputId": "e33366b2-8117-4430-8a4f-09010d37774d"
      },
      "outputs": [
        {
          "data": {
            "text/plain": [
              "num_companies_worked        19\n",
              "total_working_years          9\n",
              "environment_satisfaction    25\n",
              "job_satisfaction            20\n",
              "work_life_balance           38\n",
              "dtype: int64"
            ]
          },
          "execution_count": 55,
          "metadata": {},
          "output_type": "execute_result"
        }
      ],
      "source": [
        "df_nulos = df_employees.isnull().sum()\n",
        "df_nulos[df_nulos!=0]"
      ]
    },
    {
      "cell_type": "code",
      "execution_count": 56,
      "metadata": {},
      "outputs": [],
      "source": [
        "df_employees2 = df_employees.copy()"
      ]
    },
    {
      "cell_type": "markdown",
      "metadata": {},
      "source": [
        "## 5.2. Tratar valores faltantes de columnas categóricas"
      ]
    },
    {
      "cell_type": "markdown",
      "metadata": {},
      "source": [
        "Reemplazas nulos por la moda."
      ]
    },
    {
      "cell_type": "code",
      "execution_count": 57,
      "metadata": {},
      "outputs": [],
      "source": [
        "from sklearn.impute import SimpleImputer\n",
        "\n",
        "imp_cat = SimpleImputer(strategy='most_frequent')\n",
        "df_cat = df_employees2[['environment_satisfaction', 'job_satisfaction', 'work_life_balance']]\n",
        "imp_cat.fit(df_cat)\n",
        "df_employees2[['environment_satisfaction', 'job_satisfaction', 'work_life_balance']] = imp_cat.fit_transform(df_cat.values)"
      ]
    },
    {
      "cell_type": "markdown",
      "metadata": {},
      "source": [
        "## 5.3. Tratar valores faltantes de columnas numéricas"
      ]
    },
    {
      "cell_type": "markdown",
      "metadata": {},
      "source": [
        "Reemplaza nulos en 'num_companied_worked' por la mediana."
      ]
    },
    {
      "cell_type": "code",
      "execution_count": 58,
      "metadata": {},
      "outputs": [],
      "source": [
        "imp_num = SimpleImputer(strategy='median')\n",
        "imp_num.fit(df_employees2[['num_companies_worked']])\n",
        "df_employees2[['num_companies_worked']] = imp_num.transform(df_employees2[['num_companies_worked']])"
      ]
    },
    {
      "cell_type": "markdown",
      "metadata": {},
      "source": [
        "Eliminar registros con valores faltantes en la columna 'total_working_years'"
      ]
    },
    {
      "cell_type": "code",
      "execution_count": 59,
      "metadata": {},
      "outputs": [],
      "source": [
        "df_employees2.dropna(inplace=True)"
      ]
    },
    {
      "cell_type": "code",
      "execution_count": 60,
      "metadata": {},
      "outputs": [
        {
          "data": {
            "text/plain": [
              "Series([], dtype: int64)"
            ]
          },
          "execution_count": 60,
          "metadata": {},
          "output_type": "execute_result"
        }
      ],
      "source": [
        "df_nulos2 = df_employees2.isnull().sum()\n",
        "df_nulos2[df_nulos2!=0]"
      ]
    },
    {
      "cell_type": "markdown",
      "metadata": {},
      "source": [
        "# 6. Revisar valores duplicados"
      ]
    },
    {
      "cell_type": "code",
      "execution_count": 61,
      "metadata": {},
      "outputs": [
        {
          "data": {
            "text/html": [
              "<div>\n",
              "<style scoped>\n",
              "    .dataframe tbody tr th:only-of-type {\n",
              "        vertical-align: middle;\n",
              "    }\n",
              "\n",
              "    .dataframe tbody tr th {\n",
              "        vertical-align: top;\n",
              "    }\n",
              "\n",
              "    .dataframe thead th {\n",
              "        text-align: right;\n",
              "    }\n",
              "</style>\n",
              "<table border=\"1\" class=\"dataframe\">\n",
              "  <thead>\n",
              "    <tr style=\"text-align: right;\">\n",
              "      <th></th>\n",
              "      <th>employee_id</th>\n",
              "      <th>age</th>\n",
              "      <th>attrition</th>\n",
              "      <th>business_travel</th>\n",
              "      <th>department</th>\n",
              "      <th>distance_from_home</th>\n",
              "      <th>education</th>\n",
              "      <th>education_field</th>\n",
              "      <th>employee_count</th>\n",
              "      <th>gender</th>\n",
              "      <th>...</th>\n",
              "      <th>training_times_last_year</th>\n",
              "      <th>years_at_company</th>\n",
              "      <th>years_since_last_promotion</th>\n",
              "      <th>years_with_curr_manager</th>\n",
              "      <th>environment_satisfaction</th>\n",
              "      <th>job_satisfaction</th>\n",
              "      <th>work_life_balance</th>\n",
              "      <th>job_involvement</th>\n",
              "      <th>performance_rating</th>\n",
              "      <th>mean_time</th>\n",
              "    </tr>\n",
              "  </thead>\n",
              "  <tbody>\n",
              "  </tbody>\n",
              "</table>\n",
              "<p>0 rows × 30 columns</p>\n",
              "</div>"
            ],
            "text/plain": [
              "Empty DataFrame\n",
              "Columns: [employee_id, age, attrition, business_travel, department, distance_from_home, education, education_field, employee_count, gender, job_level, job_role, marital_status, monthly_income, num_companies_worked, over18, percent_salary_hike, standard_hours, stock_option_level, total_working_years, training_times_last_year, years_at_company, years_since_last_promotion, years_with_curr_manager, environment_satisfaction, job_satisfaction, work_life_balance, job_involvement, performance_rating, mean_time]\n",
              "Index: []\n",
              "\n",
              "[0 rows x 30 columns]"
            ]
          },
          "execution_count": 61,
          "metadata": {},
          "output_type": "execute_result"
        }
      ],
      "source": [
        "df_employees2[df_employees2.duplicated()]"
      ]
    },
    {
      "cell_type": "markdown",
      "metadata": {},
      "source": [
        "# 7. Eliminar columnas constantes"
      ]
    },
    {
      "cell_type": "markdown",
      "metadata": {},
      "source": [
        "Detectar columnas constantes."
      ]
    },
    {
      "cell_type": "code",
      "execution_count": 62,
      "metadata": {},
      "outputs": [
        {
          "name": "stdout",
          "output_type": "stream",
          "text": [
            "employee_count\n",
            "over18\n",
            "standard_hours\n"
          ]
        }
      ],
      "source": [
        "for col in df_employees2:\n",
        "    if df_employees2[col].unique().shape[0] == 1:\n",
        "        print(col)"
      ]
    },
    {
      "cell_type": "markdown",
      "metadata": {},
      "source": [
        "Eliminar esas columnas constantes."
      ]
    },
    {
      "cell_type": "code",
      "execution_count": 63,
      "metadata": {},
      "outputs": [],
      "source": [
        "df_employees_final = df_employees2.drop(['employee_count', 'over18', 'standard_hours'], axis=1)"
      ]
    },
    {
      "cell_type": "markdown",
      "metadata": {},
      "source": [
        "# 8. Exportar dataframe limpio en formato csv"
      ]
    },
    {
      "cell_type": "code",
      "execution_count": 64,
      "metadata": {},
      "outputs": [],
      "source": [
        "pd.set_option('display.max_columns', None)"
      ]
    },
    {
      "cell_type": "code",
      "execution_count": 65,
      "metadata": {},
      "outputs": [
        {
          "name": "stdout",
          "output_type": "stream",
          "text": [
            "<class 'pandas.core.frame.DataFrame'>\n",
            "Index: 4401 entries, 0 to 4408\n",
            "Data columns (total 27 columns):\n",
            " #   Column                      Non-Null Count  Dtype  \n",
            "---  ------                      --------------  -----  \n",
            " 0   employee_id                 4401 non-null   int64  \n",
            " 1   age                         4401 non-null   int64  \n",
            " 2   attrition                   4401 non-null   object \n",
            " 3   business_travel             4401 non-null   object \n",
            " 4   department                  4401 non-null   object \n",
            " 5   distance_from_home          4401 non-null   int64  \n",
            " 6   education                   4401 non-null   object \n",
            " 7   education_field             4401 non-null   object \n",
            " 8   gender                      4401 non-null   object \n",
            " 9   job_level                   4401 non-null   object \n",
            " 10  job_role                    4401 non-null   object \n",
            " 11  marital_status              4401 non-null   object \n",
            " 12  monthly_income              4401 non-null   int64  \n",
            " 13  num_companies_worked        4401 non-null   float64\n",
            " 14  percent_salary_hike         4401 non-null   int64  \n",
            " 15  stock_option_level          4401 non-null   object \n",
            " 16  total_working_years         4401 non-null   float64\n",
            " 17  training_times_last_year    4401 non-null   object \n",
            " 18  years_at_company            4401 non-null   int64  \n",
            " 19  years_since_last_promotion  4401 non-null   int64  \n",
            " 20  years_with_curr_manager     4401 non-null   int64  \n",
            " 21  environment_satisfaction    4401 non-null   object \n",
            " 22  job_satisfaction            4401 non-null   object \n",
            " 23  work_life_balance           4401 non-null   object \n",
            " 24  job_involvement             4401 non-null   object \n",
            " 25  performance_rating          4401 non-null   object \n",
            " 26  mean_time                   4401 non-null   float64\n",
            "dtypes: float64(3), int64(8), object(16)\n",
            "memory usage: 962.7+ KB\n"
          ]
        }
      ],
      "source": [
        "df_employees_final.info()"
      ]
    },
    {
      "cell_type": "code",
      "execution_count": 66,
      "metadata": {},
      "outputs": [],
      "source": [
        "df_employees_final.to_csv('Datasets/datos_limpios.csv', quotechar='\"', index=False)"
      ]
    }
  ],
  "metadata": {
    "colab": {
      "provenance": []
    },
    "kernelspec": {
      "display_name": "Python 3",
      "name": "python3"
    },
    "language_info": {
      "codemirror_mode": {
        "name": "ipython",
        "version": 3
      },
      "file_extension": ".py",
      "mimetype": "text/x-python",
      "name": "python",
      "nbconvert_exporter": "python",
      "pygments_lexer": "ipython3",
      "version": "3.11.4"
    }
  },
  "nbformat": 4,
  "nbformat_minor": 0
}
